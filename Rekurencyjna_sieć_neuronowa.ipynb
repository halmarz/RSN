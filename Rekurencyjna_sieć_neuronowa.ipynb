{
 "cells": [
  {
   "cell_type": "code",
   "execution_count": 5,
   "metadata": {},
   "outputs": [
    {
     "name": "stdout",
     "output_type": "stream",
     "text": [
      "wagi:\n",
      " [[0.1242616  0.06108094 0.82305258 ... 0.81304407 0.52906221 0.94735242]\n",
      " [0.79663703 0.68105955 0.72152513 ... 0.11459588 0.31652851 0.31531822]\n",
      " [0.48802764 0.0353178  0.05669729 ... 0.55320729 0.3312356  0.59643631]\n",
      " ...\n",
      " [0.83195215 0.07539199 0.51224625 ... 0.14585566 0.83724441 0.43232236]\n",
      " [0.67233636 0.0101784  0.23298443 ... 0.44980552 0.71614211 0.11224585]\n",
      " [0.8978267  0.09716161 0.31084336 ... 0.27595622 0.69471369 0.4660982 ]]\n",
      "\n",
      " [[0.26835117 0.61202876 0.42222776 ... 0.16823545 0.55372029 0.18680752]\n",
      " [0.28200267 0.34647253 0.226535   ... 0.26429186 0.68418478 0.11934257]\n",
      " [0.36437586 0.07254558 0.00812218 ... 0.61559512 0.3479884  0.00514761]\n",
      " ...\n",
      " [0.46921779 0.07914125 0.44478698 ... 0.68565508 0.17161691 0.7344782 ]\n",
      " [0.72647022 0.43284857 0.86480425 ... 0.64619145 0.59368621 0.89658059]\n",
      " [0.717654   0.74041079 0.61204995 ... 0.94036928 0.14097688 0.64653748]]\n",
      "przesunięcie:\n",
      " [8.88804948e-01 4.49042245e-01 5.38065174e-01 8.21726447e-01\n",
      " 7.82723977e-01 6.31523805e-01 7.67850369e-01 9.93116173e-01\n",
      " 2.19681767e-01 7.05228952e-02 2.25421989e-01 1.22199822e-01\n",
      " 3.00479676e-01 1.39246232e-01 5.00421933e-01 3.01865316e-01\n",
      " 5.58833187e-01 2.08852035e-01 9.24254544e-01 1.95396710e-04\n",
      " 7.36232414e-01 5.51801233e-01 9.68246403e-01 9.86715058e-01\n",
      " 8.52042963e-01 9.67480425e-03 4.63416278e-01 1.27593434e-01\n",
      " 8.60386168e-01 4.59558928e-01 1.49648431e-01 5.07240496e-02\n",
      " 4.18487141e-01 4.90048141e-02 3.15989037e-01 4.01657107e-01\n",
      " 2.14990999e-01 3.11019475e-01 6.38779889e-01 7.72293132e-01\n",
      " 2.09813023e-01 7.29375795e-01 5.96214714e-01 2.52399091e-01\n",
      " 2.18902567e-01 3.32032520e-01 5.00507342e-01 5.41380228e-01\n",
      " 1.79016850e-01 8.09123954e-01 7.69892833e-02 1.12406174e-01\n",
      " 7.44368110e-01 7.96695881e-01 2.88620843e-02 1.35293862e-01\n",
      " 7.75940305e-01 7.80467354e-01 6.69166185e-01 7.14731751e-01\n",
      " 1.40447874e-01 8.83969354e-01 7.77138974e-01 4.07468833e-03]\n",
      "wynik ostateczny: \n",
      " [0.99999999 1.         1.         ... 1.         1.         1.        ]\n"
     ]
    }
   ],
   "source": [
    "import numpy as np\n",
    "timesteps = 100\n",
    "input_features = 32\n",
    "output_features = 64\n",
    "inputs = np.random.random((timesteps, input_features))\n",
    "state_t = np.zeros((output_features,))\n",
    "W = np.random.random((output_features, input_features))\n",
    "print('wagi:\\n',W)\n",
    "U = np.random.random((output_features, output_features))\n",
    "print('\\n', U)\n",
    "b = np.random.random((output_features,))\n",
    "print('przesunięcie:\\n',b)\n",
    "successive_outputs = []\n",
    "for input_t in inputs:\n",
    "    output_t = np.tanh(np.dot(W, input_t) + np.dot(U, state_t) + b)\n",
    "    successive_outputs.append(output_t)\n",
    "    # print(\"obliczenie:\", output_t)\n",
    "    state_t = output_t\n",
    "    \n",
    "final_output_sequence = np.concatenate(successive_outputs, axis=0)\n",
    "\n",
    "\n",
    "print('wynik ostateczny: \\n', final_output_sequence)"
   ]
  }
 ],
 "metadata": {
  "kernelspec": {
   "display_name": "Python 3.10.7 64-bit",
   "language": "python",
   "name": "python3"
  },
  "language_info": {
   "codemirror_mode": {
    "name": "ipython",
    "version": 3
   },
   "file_extension": ".py",
   "mimetype": "text/x-python",
   "name": "python",
   "nbconvert_exporter": "python",
   "pygments_lexer": "ipython3",
   "version": "3.10.7"
  },
  "orig_nbformat": 4,
  "vscode": {
   "interpreter": {
    "hash": "26de051ba29f2982a8de78e945f0abaf191376122a1563185a90213a26c5da77"
   }
  }
 },
 "nbformat": 4,
 "nbformat_minor": 2
}
